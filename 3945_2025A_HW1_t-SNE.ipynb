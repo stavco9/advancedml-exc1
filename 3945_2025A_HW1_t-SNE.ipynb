{
 "cells": [
  {
   "cell_type": "markdown",
   "id": "10316d5779a3733",
   "metadata": {
    "collapsed": false,
    "jupyter": {
     "outputs_hidden": false
    }
   },
   "source": [
    "# Exercise 1: t-SNE\n",
    "\n",
    "## Do not start the exercise until you fully understand the submission guidelines.\n",
    "\n",
    "\n",
    "* The homework assignments are executed automatically. \n",
    "* Failure to comply with the following instructions will result in a significant penalty. \n",
    "* Appeals regarding your failure to read these instructions will be denied. \n",
    "* Kind reminder: the homework assignments contribute 60% of the final grade.\n",
    "\n",
    "\n",
    "## Read the following instructions carefully:\n",
    "\n",
    "1. This Jupyter notebook contains all the step-by-step instructions needed for this exercise.\n",
    "1. Write **efficient**, **vectorized** code whenever possible. Some calculations in this exercise may take several minutes when implemented efficiently, and might take much longer otherwise. Unnecessary loops will result in point deductions.\n",
    "1. You are responsible for the correctness of your code and should add as many tests as you see fit to this jupyter notebook. Tests will not be graded nor checked.\n",
    "1. You are allowed to use functions and methods from the [Python Standard Library](https://docs.python.org/3/library/).\n",
    "1. Your code must run without errors. Use at least `numpy` 1.15.4. Any code that cannot run will not be graded.\n",
    "1. Write your own code. Cheating will not be tolerated.\n",
    "1. Submission includes a zip file that contains this notebook, with your ID as the file name. For example, `hw1_123456789_987654321.zip` if you submitted in pairs and `hw1_123456789.zip` if you submitted the exercise alone. The name of the notebook should follow the same structure.\n",
    "   \n",
    "Please use only a **zip** file in your submission.\n",
    "\n",
    "---\n",
    "---\n",
    "\n",
    "## Please sign that you have read and understood the instructions: \n",
    "\n",
    "316492776\n",
    "---\n",
    "---\n"
   ]
  },
  {
   "cell_type": "code",
   "execution_count": 1,
   "id": "735832cbfa43f83",
   "metadata": {
    "collapsed": false,
    "jupyter": {
     "outputs_hidden": false
    }
   },
   "outputs": [],
   "source": [
    "# Import necessary libraries\n",
    "import numpy as np\n",
    "from sklearn.manifold import TSNE\n",
    "from sklearn.model_selection import train_test_split\n",
    "import matplotlib.pyplot as plt\n",
    "\n",
    "np.random.seed(42)"
   ]
  },
  {
   "cell_type": "markdown",
   "id": "8f877cca-f7d1-41ca-9d3d-28d587bec85c",
   "metadata": {},
   "source": [
    "# Design your algorithm\n",
    "Make sure to describe the algorithm, its limitations, and describe use-cases."
   ]
  },
  {
   "cell_type": "markdown",
   "id": "0ba7760b-b4ef-45a9-9aad-88b45fd8d442",
   "metadata": {},
   "source": []
  },
  {
   "cell_type": "markdown",
   "id": "2158ff2629daf2bb",
   "metadata": {
    "collapsed": false,
    "jupyter": {
     "outputs_hidden": false
    }
   },
   "source": [
    "# Your implementations\n",
    "You may add new cells, write helper functions or test code as you see fit.\n",
    "Please use the cell below and include a description of your implementation.\n",
    "Explain code design consideration, algorithmic choices and any other details you think is relevant to understanding your implementation.\n",
    "Failing to explain your code will lead to point deductions."
   ]
  },
  {
   "cell_type": "markdown",
   "id": "afe206c9-d1f4-440b-aca0-c807cdd79451",
   "metadata": {},
   "source": []
  },
  {
   "cell_type": "code",
   "execution_count": 4,
   "id": "90007703",
   "metadata": {},
   "outputs": [],
   "source": [
    "from scipy.spatial.distance import pdist, squareform"
   ]
  },
  {
   "cell_type": "code",
   "execution_count": 58,
   "id": "7b85d8f7447ebce0",
   "metadata": {
    "collapsed": false,
    "jupyter": {
     "outputs_hidden": false
    }
   },
   "outputs": [],
   "source": [
    "class CustomTSNE:\n",
    "    def __init__(self, perplexity=30.0, n_components=2, n_iter=1000, learning_rate=200.0):\n",
    "        self.perplexity = perplexity\n",
    "        self.n_components = n_components\n",
    "        self.n_iter = n_iter\n",
    "        self.learning_rate = learning_rate\n",
    "        # Note: You may add more attributes\n",
    "        self.sigma = 1  # TODO\n",
    "\n",
    "    def fit_transform(self, X):\n",
    "        # Part 1: Implementing t-SNE\n",
    "\n",
    "        # Step 1: Compute pairwise affinities in the original space with a Gaussian distribution\n",
    "        # Your code here\n",
    "        # Implementation is according to slides 61-66\n",
    "        N = len(X)\n",
    "        X_dists = pdist(X)\n",
    "        X_dists = -X_dists**2 / self.sigma\n",
    "        X_dists = np.exp(X_dists)\n",
    "        X_dists = squareform(X_dists) # diagonal is 0\n",
    "        p_denominator = np.sum(X_dists)\n",
    "        p_ij = X_dists / p_denominator\n",
    "        p_ij = (p_ij + p_ij.T) / (2*N)\n",
    "\n",
    "        Y = np.random.random((N, self.n_components))\n",
    "\n",
    "        for _ in range(self.n_iter):\n",
    "            Y_dists = pdist(Y)\n",
    "            Y_dists = 1+Y_dists**2\n",
    "            Y_dists = Y_dists ** -1\n",
    "            Y_dists = squareform(Y_dists)\n",
    "            q_denominator = np.sum(Y_dists) # diagonal is 0\n",
    "            q_ij = Y_dists / q_denominator\n",
    "\n",
    "            C = p_ij * np.log(p_ij/q_ij, where=(q_ij != 0) & (p_ij != 0))  # remove i=j cases\n",
    "            # TODO: remove division by 0 (although it doesnt do anything)\n",
    "            \n",
    "            C = np.sum(C)\n",
    "\n",
    "            Y_diff = Y[:, np.newaxis, :] - Y[np.newaxis, :, :]\n",
    "            grad_C_yi = 4 * \\\n",
    "                np.sum((p_ij - q_ij)[..., np.newaxis] *\n",
    "                       Y_diff * Y_dists[..., np.newaxis], axis=1)\n",
    "\n",
    "            Y += self.learning_rate * grad_C_yi\n",
    "            # TODO: add early stopping\n",
    "            # TODO: maybe take only close neighbors\n",
    "        # Return Y, the 2D representation of the input data\n",
    "        return Y\n",
    "\n",
    "    # Part 2: Transformation of New Data Points\n",
    "\n",
    "    def transform(self, X_original, Y_original, X_new):\n",
    "        # Implement your method for incorporating new points into the existing t-SNE layout\n",
    "        # Your code here\n",
    "\n",
    "        # Return Y_new, the transformed data\n",
    "        pass"
   ]
  },
  {
   "cell_type": "code",
   "execution_count": 59,
   "id": "b3ab97e1",
   "metadata": {},
   "outputs": [
    {
     "name": "stderr",
     "output_type": "stream",
     "text": [
      "C:\\Users\\Roey\\AppData\\Local\\Temp\\ipykernel_2844\\2002700946.py:35: RuntimeWarning: invalid value encountered in divide\n",
      "  C = p_ij * np.log(p_ij/q_ij, where=(q_ij != 0) & (p_ij != 0))  # remove i=j cases\n"
     ]
    },
    {
     "data": {
      "text/plain": [
       "array([[ 0.59986559,  0.24883919],\n",
       "       [ 0.64885515,  0.56444187],\n",
       "       [ 0.343654  ,  0.32338828],\n",
       "       [ 0.28920073,  0.56410805],\n",
       "       [ 0.29344076,  0.91622531],\n",
       "       [ 0.64690825,  0.11863141],\n",
       "       [ 0.58410881,  0.46122467],\n",
       "       [ 0.77792654,  0.98653834],\n",
       "       [ 0.37374789,  0.62191628],\n",
       "       [ 0.38630591,  0.4926952 ],\n",
       "       [ 0.67658795,  0.83588504],\n",
       "       [ 0.24408007,  0.7460703 ],\n",
       "       [ 0.40490002, -0.01446908],\n",
       "       [ 0.49342935,  0.33782054],\n",
       "       [ 0.2068212 ,  0.92744979],\n",
       "       [ 0.52952402,  0.93146622],\n",
       "       [ 0.22279258,  0.48856804],\n",
       "       [ 0.89995392,  0.54934332],\n",
       "       [ 0.61457612,  0.0596524 ],\n",
       "       [ 0.42024994,  0.65650785],\n",
       "       [ 0.39211974,  0.23614835],\n",
       "       [ 0.27643564,  0.38183213],\n",
       "       [ 0.33943102,  0.98208229],\n",
       "       [ 0.2990973 ,  0.46439536],\n",
       "       [ 0.54982541,  0.50677575],\n",
       "       [ 0.30023192,  0.75728772],\n",
       "       [ 0.38108782,  0.57072784],\n",
       "       [ 0.48394068,  0.60172994],\n",
       "       [ 0.62019841,  0.35584056],\n",
       "       [ 0.80824438,  0.39283527],\n",
       "       [ 0.51346058,  0.70844067],\n",
       "       [ 0.73986549,  0.63894003],\n",
       "       [ 0.53227443,  0.18901045],\n",
       "       [ 0.76970365,  0.20712478],\n",
       "       [ 0.29631655,  0.1661542 ],\n",
       "       [ 0.3947618 ,  0.60559921],\n",
       "       [ 0.37548985,  0.50572156],\n",
       "       [ 0.32495196,  0.29958714],\n",
       "       [ 0.60792848,  0.89108839],\n",
       "       [ 0.95332858,  0.70948434],\n",
       "       [ 0.2492095 ,  0.97316938],\n",
       "       [ 0.20758849,  0.34092646],\n",
       "       [ 0.40098637,  0.74276426],\n",
       "       [ 0.75228826,  0.28271621],\n",
       "       [ 0.28955733,  0.78753464],\n",
       "       [ 0.66662273,  0.30070234],\n",
       "       [ 0.54585687,  0.41100425],\n",
       "       [ 0.39222782,  0.98051442],\n",
       "       [ 0.2727225 ,  0.25728864],\n",
       "       [ 0.54008714,  0.49801761],\n",
       "       [ 0.4502403 ,  0.27754472],\n",
       "       [ 0.56365048,  0.91312439],\n",
       "       [ 0.63057721,  0.5636618 ],\n",
       "       [ 0.31941681,  0.30780229],\n",
       "       [ 0.90556784,  0.59479747],\n",
       "       [ 0.27373824,  0.63773079],\n",
       "       [ 0.76260594,  0.28460534],\n",
       "       [ 0.45238582,  0.85951246],\n",
       "       [ 0.21002184,  0.77664386],\n",
       "       [ 0.47093783,  0.66526519],\n",
       "       [ 0.42139633,  0.33817839],\n",
       "       [ 0.49752992,  0.73519525],\n",
       "       [ 0.52422586,  0.01645027],\n",
       "       [ 0.30120231,  0.32925822],\n",
       "       [ 0.20363708,  0.32081078],\n",
       "       [ 1.01036528,  0.93384586],\n",
       "       [ 0.51290173,  0.82079697],\n",
       "       [ 0.32565925,  0.23746898],\n",
       "       [ 0.52443683,  0.70398385],\n",
       "       [ 0.31374586,  0.3523041 ],\n",
       "       [ 0.31866465,  0.7200431 ],\n",
       "       [ 0.62791869,  0.55624892],\n",
       "       [ 0.1316452 ,  0.75655683],\n",
       "       [ 0.9872871 ,  0.97858266],\n",
       "       [ 0.25717949,  0.75910819],\n",
       "       [ 0.16578868,  0.29758644],\n",
       "       [ 0.30379099,  0.98356723],\n",
       "       [ 0.11252079,  0.63637871],\n",
       "       [ 0.50951283,  0.01890285],\n",
       "       [ 0.31764466,  0.34090038],\n",
       "       [ 0.96410325,  0.94174898],\n",
       "       [ 0.25710931,  0.39972824],\n",
       "       [ 0.35928256,  0.09187738],\n",
       "       [ 0.63020645,  0.05228145],\n",
       "       [ 0.63834874,  0.57681628],\n",
       "       [ 0.61562201,  1.02211389],\n",
       "       [ 0.35886086,  0.64887234],\n",
       "       [ 0.62471492,  1.0109153 ],\n",
       "       [ 0.40420405,  0.36358154],\n",
       "       [ 0.26698934,  0.40774081],\n",
       "       [ 0.26473386,  0.7941136 ],\n",
       "       [ 0.40103147,  0.74296739],\n",
       "       [ 0.35170172,  0.57397854],\n",
       "       [ 0.45203019,  0.13324441],\n",
       "       [ 0.67473726,  0.21063961],\n",
       "       [ 0.20559162,  0.89740319],\n",
       "       [ 0.39640768,  0.3175731 ],\n",
       "       [ 0.38193287,  0.2371568 ],\n",
       "       [ 1.01116578,  0.84176316],\n",
       "       [ 0.34928995,  0.28993846]])"
      ]
     },
     "execution_count": 59,
     "metadata": {},
     "output_type": "execute_result"
    }
   ],
   "source": [
    "CustomTSNE().fit_transform(np.random.random((100, 200)))"
   ]
  },
  {
   "cell_type": "markdown",
   "id": "df24f179351fa008",
   "metadata": {
    "collapsed": false,
    "jupyter": {
     "outputs_hidden": false
    }
   },
   "source": [
    "# Load data\n",
    "Please use the cell below to discuss your dataset choice and why it is appropriate (or not) for this algorithm."
   ]
  },
  {
   "cell_type": "markdown",
   "id": "74c4083f-5267-44d3-89ed-65864f82aa57",
   "metadata": {},
   "source": []
  },
  {
   "cell_type": "code",
   "execution_count": 1,
   "id": "a14a3b8890e86f9",
   "metadata": {
    "collapsed": false,
    "jupyter": {
     "outputs_hidden": false
    }
   },
   "outputs": [],
   "source": [
    "# Load data\n",
    "\n",
    "# Normalize data if necessary \n",
    "\n",
    "# Split the data into train and test"
   ]
  },
  {
   "cell_type": "markdown",
   "id": "da49bb42f79a55f",
   "metadata": {
    "collapsed": false,
    "jupyter": {
     "outputs_hidden": false
    }
   },
   "source": [
    "# t-SNE demonstration \n",
    "Demonstrate your t-SNE implementation.\n",
    "\n",
    "Add plots and figures. The code below is just to help you get started, and should not be your final submission.\n",
    "\n",
    "Please use the cell below to describe your results and tests.\n",
    "\n",
    "Describe the difference between your implementation and the sklearn implementation. Hint: you can look at the documentation."
   ]
  },
  {
   "cell_type": "markdown",
   "id": "a064afb5-aeea-48d8-b315-921bf4f8238f",
   "metadata": {},
   "source": []
  },
  {
   "cell_type": "code",
   "execution_count": null,
   "id": "9b3628856e1335fd",
   "metadata": {
    "collapsed": false,
    "jupyter": {
     "outputs_hidden": false
    }
   },
   "outputs": [],
   "source": [
    "# Run your custom t-SNE implementation\n",
    "custom_tsne = CustomTSNE(n_components=2, perplexity=N/10)\n",
    "custom_Y = custom_tsne.fit_transform(X_train)\n",
    "\n",
    "# Run sklearn t-SNE\n",
    "sk_tsne = TSNE(n_components=2, init='random', perplexity=N/10)\n",
    "sk_Y = sk_tsne.fit_transform(X_train)\n",
    "\n",
    "# Visualization of the result\n",
    "plt.figure()\n",
    "plt.scatter(custom_Y[:, 0], custom_Y[:, 1], s=5, c=label_train.astype(int), cmap='tab10')\n",
    "plt.scatter(custom_Y[:, 0], custom_Y[:, 1], s=5, c=label_train.astype(int), cmap='tab10')\n",
    "plt.colorbar()\n",
    "plt.title('MNIST Data Embedded into 2D with Custom t-SNE')\n",
    "\n",
    "plt.figure()\n",
    "plt.scatter(sk_Y[:, 0], sk_Y[:, 1], s=5, c=label_train.astype(int), cmap='tab10')\n",
    "plt.colorbar()\n",
    "plt.title('MNIST Data Embedded into 2D with sklearn t-SNE')\n",
    "plt.show()"
   ]
  },
  {
   "cell_type": "markdown",
   "id": "73fa2fceedc77e92",
   "metadata": {
    "collapsed": false,
    "jupyter": {
     "outputs_hidden": false
    }
   },
   "source": [
    "# t-SNE extension - mapping new samples\n",
    "Demonstrate your t-SNE transformation procedure.\n",
    "\n",
    "Add plots and figures.\n",
    "\n",
    "Please use the cell below t describe your suggested approach in detail. Use formal notations where appropriate.\n",
    "Describe and discuss your results."
   ]
  },
  {
   "cell_type": "markdown",
   "id": "7b34701c-cc3b-439a-b2d0-393449cf5a20",
   "metadata": {},
   "source": []
  },
  {
   "cell_type": "code",
   "execution_count": null,
   "id": "9d38dc132b23e7b",
   "metadata": {
    "collapsed": false,
    "jupyter": {
     "outputs_hidden": false
    }
   },
   "outputs": [],
   "source": [
    "# Transform new data\n",
    "custom_Y_new = custom_tsne.transform(X_train,custom_Y,X_test)\n",
    "\n",
    "# Visualization of the result\n",
    "plt.figure()\n",
    "plt.scatter(custom_Y[:, 0], custom_Y[:, 1], s=5, c=label_train.astype(int), cmap='tab10')\n",
    "plt.scatter(custom_Y_new[:, 0], custom_Y_new[:, 1], marker = '*', s=50, linewidths=0.5, edgecolors='k', c=label_test.astype(int), cmap='tab10')\n",
    "plt.colorbar()\n",
    "plt.title('MNIST Data Embedded into 2D with Custom t-SNE')"
   ]
  },
  {
   "cell_type": "markdown",
   "id": "18c95c7f-d3a9-4e3d-b539-02e020358766",
   "metadata": {},
   "source": [
    "# Use of generative AI\n",
    "Please use the cell below to describe your use of generative AI in this assignment. "
   ]
  },
  {
   "cell_type": "markdown",
   "id": "36753fd7-8b2d-487b-82ae-dc318eca3ca6",
   "metadata": {},
   "source": [
    "I asked chatgpt how to calculate efficiently Y_diff"
   ]
  }
 ],
 "metadata": {
  "kernelspec": {

   "display_name": "Python 3 (ipykernel)",
   "language": "python",
   "name": "python3"
  },
  "language_info": {
   "codemirror_mode": {
    "name": "ipython",
    "version": 3
   },
   "file_extension": ".py",
   "mimetype": "text/x-python",
   "name": "python",
   "nbconvert_exporter": "python",
   "pygments_lexer": "ipython3",
   "version": "3.13.0"
  }
 },
 "nbformat": 4,
 "nbformat_minor": 5
}
